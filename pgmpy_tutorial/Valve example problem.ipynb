{
 "cells": [
  {
   "cell_type": "markdown",
   "metadata": {},
   "source": [
    "## Problem\n",
    "\n",
    "A critical valve in a steam plant may be in one of two states: normal or broken.  The state of the valve changes over time according to Markovian dynamics (the next state only depends on the previous state).  The initial valve state is normal.  If the current valve state is broken, the next valve state must be broken.  If the current valve state is normal, the next valve state has a 0.2 probability of becoming broken.  We model the valve state over 3 consecutive time steps (i.e., first time step, second time step, third time step).\n",
    "\n",
    "Note: This is not a continuous time model and we do not care about the exact times.  We simply have 3 different discrete random variables for valve state corresponding to the valve state at 3 consecutive time steps.\n",
    "\n",
    "A very noisy sensor monitors the valve state at every time step.  The sensor may take on one of two assignments: observed_normal or observed_broken.  If the valve state is normal, there is a uniform (i.e., equal) probability of the sensor reading either observed_normal or observed_broken.  If the valve state is broken, then the sensor will always read observed_broken.\n",
    "\n",
    "Answer the following questions, by showing the code that executes the query and produces the exact numerical result:\n",
    "\n",
    "1. Given no evidence, what is the probability that the valve state is broken at the third time step?\n",
    "2. Given the evidence observed_broken for the sensor at the second time step, what is the probability that the valve state is broken at the third time step?\n",
    "3. Given the sensor observation sequence (observed_broken, observed_normal, observed_broken) as evidence, what is the probability that the valve state is broken at the third time step?\n",
    "4. Given the sensor observation sequence (observed_broken, observed_broken, observed_broken) as evidence, what is the probability that the valve state is broken at the third time step?\n",
    "5. Given the evidence that the valve state at the second time step is normal, what is the probability of observing sensor value observed_normal at the third time step?\n"
   ]
  },
  {
   "cell_type": "code",
   "execution_count": 3,
   "metadata": {},
   "outputs": [],
   "source": [
    "from pgmpy.models import BayesianModel\n",
    "from pgmpy.factors.discrete import TabularCPD as cpd\n",
    "from pgmpy.estimators import MaximumLikelihoodEstimator\n",
    "from pgmpy.inference import VariableElimination\n",
    "import pandas as pd\n",
    "import numpy as np"
   ]
  },
  {
   "cell_type": "markdown",
   "metadata": {},
   "source": [
    "### Build the Baysian Network"
   ]
  },
  {
   "cell_type": "code",
   "execution_count": 22,
   "metadata": {},
   "outputs": [],
   "source": [
    "valve = BayesianModel([('v1', 'v2'), \n",
    "                       ('v2', 'v3'),\n",
    "                       ('v1', 's1'),\n",
    "                       ('v2', 's2'),\n",
    "                       ('v3', 's3')])\n",
    "\n",
    "v_v_values = [[1, 0.2], [0, 0.8]]\n",
    "v_s_values = [[1, 0.5], [0, 0.5]]\n",
    "\n",
    "cpd_v1 = cpd(variable='v1', variable_card=2,values=[[0], [1]])\n",
    "cpd_v2 = cpd(variable='v2', variable_card=2,\n",
    "            values=v_v_values,\n",
    "            evidence=['v1'],\n",
    "            evidence_card=[2])\n",
    "cpd_v3 = cpd(variable='v3', variable_card=2,\n",
    "            values=v_v_values,\n",
    "            evidence=['v2'],\n",
    "            evidence_card=[2])\n",
    "cpd_s1 = cpd(variable='s1', variable_card=2,\n",
    "            values=v_s_values,\n",
    "            evidence=['v1'],\n",
    "            evidence_card=[2])\n",
    "cpd_s2 = cpd(variable='s2', variable_card=2,\n",
    "            values=v_s_values,\n",
    "            evidence=['v2'],\n",
    "            evidence_card=[2])\n",
    "cpd_s3 = cpd(variable='s3', variable_card=2,\n",
    "            values=v_s_values,\n",
    "            evidence=['v3'],\n",
    "            evidence_card=[2])\n"
   ]
  },
  {
   "cell_type": "code",
   "execution_count": 23,
   "metadata": {},
   "outputs": [
    {
     "data": {
      "text/plain": [
       "True"
      ]
     },
     "execution_count": 23,
     "metadata": {},
     "output_type": "execute_result"
    }
   ],
   "source": [
    "valve.add_cpds(cpd_v1, cpd_v2, cpd_v3, cpd_s1, cpd_s2, cpd_s3)\n",
    "valve.check_model()"
   ]
  },
  {
   "cell_type": "code",
   "execution_count": 24,
   "metadata": {},
   "outputs": [
    {
     "data": {
      "text/plain": [
       "(s2 _|_ s3, s1, v1, v3 | v2)\n",
       "(s2 _|_ s1 | v1)\n",
       "(s2 _|_ s3 | v3)\n",
       "(s2 _|_ s1, v1, v3 | s3, v2)\n",
       "(s2 _|_ s3, v1, v3 | s1, v2)\n",
       "(s2 _|_ s3, s1, v3 | v1, v2)\n",
       "(s2 _|_ s3, s1, v1 | v3, v2)\n",
       "(s2 _|_ s1 | s3, v1)\n",
       "(s2 _|_ s3 | s1, v3)\n",
       "(s2 _|_ s3, s1 | v1, v3)\n",
       "(s2 _|_ v1, v3 | s3, s1, v2)\n",
       "(s2 _|_ s1, v3 | s3, v1, v2)\n",
       "(s2 _|_ s1, v1 | v3, s3, v2)\n",
       "(s2 _|_ s3, v3 | s1, v1, v2)\n",
       "(s2 _|_ s3, v1 | v3, s1, v2)\n",
       "(s2 _|_ s3, s1 | v3, v1, v2)\n",
       "(s2 _|_ s1 | s3, v1, v3)\n",
       "(s2 _|_ s3 | s1, v1, v3)\n",
       "(s2 _|_ v3 | s3, s1, v1, v2)\n",
       "(s2 _|_ v1 | v3, s3, s1, v2)\n",
       "(s2 _|_ s1 | v3, s3, v1, v2)\n",
       "(s2 _|_ s3 | v3, s1, v1, v2)\n",
       "(s1 _|_ s2, s3, v3 | v2)\n",
       "(s1 _|_ v2, s2, s3, v3 | v1)\n",
       "(s1 _|_ s3 | v3)\n",
       "(s1 _|_ s3, v3 | s2, v2)\n",
       "(s1 _|_ s2, v3 | s3, v2)\n",
       "(s1 _|_ s2, s3, v3 | v1, v2)\n",
       "(s1 _|_ s2, s3 | v3, v2)\n",
       "(s1 _|_ v2, s3, v3 | s2, v1)\n",
       "(s1 _|_ s3 | s2, v3)\n",
       "(s1 _|_ v2, s2, v3 | s3, v1)\n",
       "(s1 _|_ s2, s3, v2 | v1, v3)\n",
       "(s1 _|_ v3 | s2, s3, v2)\n",
       "(s1 _|_ s3, v3 | s2, v1, v2)\n",
       "(s1 _|_ s3 | s2, v3, v2)\n",
       "(s1 _|_ s2, v3 | s3, v1, v2)\n",
       "(s1 _|_ s2 | v3, s3, v2)\n",
       "(s1 _|_ s2, s3 | v3, v1, v2)\n",
       "(s1 _|_ v2, v3 | s2, s3, v1)\n",
       "(s1 _|_ s3, v2 | s2, v1, v3)\n",
       "(s1 _|_ s2, v2 | s3, v1, v3)\n",
       "(s1 _|_ v3 | s2, s3, v1, v2)\n",
       "(s1 _|_ s3 | s2, v3, v1, v2)\n",
       "(s1 _|_ s2 | v3, s3, v1, v2)\n",
       "(s1 _|_ v2 | s2, s3, v1, v3)\n",
       "(v1 _|_ s2, s3, v3 | v2)\n",
       "(v1 _|_ s3 | v3)\n",
       "(v1 _|_ s3, v3 | s2, v2)\n",
       "(v1 _|_ s2, v3 | s3, v2)\n",
       "(v1 _|_ s2, s3, v3 | s1, v2)\n",
       "(v1 _|_ s2, s3 | v3, v2)\n",
       "(v1 _|_ s3 | s2, v3)\n",
       "(v1 _|_ s3 | s1, v3)\n",
       "(v1 _|_ v3 | s2, s3, v2)\n",
       "(v1 _|_ s3, v3 | s2, s1, v2)\n",
       "(v1 _|_ s3 | s2, v3, v2)\n",
       "(v1 _|_ s2, v3 | s3, s1, v2)\n",
       "(v1 _|_ s2 | v3, s3, v2)\n",
       "(v1 _|_ s2, s3 | v3, s1, v2)\n",
       "(v1 _|_ s3 | s2, s1, v3)\n",
       "(v1 _|_ v3 | s2, s3, s1, v2)\n",
       "(v1 _|_ s3 | s2, v3, s1, v2)\n",
       "(v1 _|_ s2 | v3, s3, s1, v2)\n",
       "(v3 _|_ s1 | v1)\n",
       "(v3 _|_ s2, s1, v1 | v2)\n",
       "(v3 _|_ s1 | s2, v1)\n",
       "(v3 _|_ s1, v1 | s2, v2)\n",
       "(v3 _|_ s1 | s3, v1)\n",
       "(v3 _|_ s2, s1, v1 | s3, v2)\n",
       "(v3 _|_ s2, v1 | s1, v2)\n",
       "(v3 _|_ s2, s1 | v1, v2)\n",
       "(v3 _|_ s1 | s2, s3, v1)\n",
       "(v3 _|_ s1, v1 | s2, s3, v2)\n",
       "(v3 _|_ v1 | s2, s1, v2)\n",
       "(v3 _|_ s1 | s2, v1, v2)\n",
       "(v3 _|_ s2, v1 | s3, s1, v2)\n",
       "(v3 _|_ s2, s1 | s3, v1, v2)\n",
       "(v3 _|_ s2 | s1, v1, v2)\n",
       "(v3 _|_ v1 | s2, s3, s1, v2)\n",
       "(v3 _|_ s1 | s2, s3, v1, v2)\n",
       "(v3 _|_ s2 | s3, s1, v1, v2)\n",
       "(s3 _|_ s2, s1, v1 | v2)\n",
       "(s3 _|_ s1 | v1)\n",
       "(s3 _|_ s2, s1, v1, v2 | v3)\n",
       "(s3 _|_ s1, v1 | s2, v2)\n",
       "(s3 _|_ s2, v1 | s1, v2)\n",
       "(s3 _|_ s2, s1 | v1, v2)\n",
       "(s3 _|_ s2, s1, v1 | v3, v2)\n",
       "(s3 _|_ s1 | s2, v1)\n",
       "(s3 _|_ s1, v1, v2 | s2, v3)\n",
       "(s3 _|_ s2, v1, v2 | s1, v3)\n",
       "(s3 _|_ s2, s1, v2 | v1, v3)\n",
       "(s3 _|_ v1 | s2, s1, v2)\n",
       "(s3 _|_ s1 | s2, v1, v2)\n",
       "(s3 _|_ s1, v1 | s2, v3, v2)\n",
       "(s3 _|_ s2 | s1, v1, v2)\n",
       "(s3 _|_ s2, v1 | v3, s1, v2)\n",
       "(s3 _|_ s2, s1 | v3, v1, v2)\n",
       "(s3 _|_ v1, v2 | s2, s1, v3)\n",
       "(s3 _|_ s1, v2 | s2, v1, v3)\n",
       "(s3 _|_ s2, v2 | s1, v1, v3)\n",
       "(s3 _|_ v1 | s2, v3, s1, v2)\n",
       "(s3 _|_ s1 | s2, v3, v1, v2)\n",
       "(s3 _|_ s2 | v3, s1, v1, v2)\n",
       "(s3 _|_ v2 | s2, s1, v1, v3)\n",
       "(v2 _|_ s1 | v1)\n",
       "(v2 _|_ s3 | v3)\n",
       "(v2 _|_ s1 | s2, v1)\n",
       "(v2 _|_ s3 | s2, v3)\n",
       "(v2 _|_ s1 | s3, v1)\n",
       "(v2 _|_ s3 | s1, v3)\n",
       "(v2 _|_ s3, s1 | v1, v3)\n",
       "(v2 _|_ s1 | s2, s3, v1)\n",
       "(v2 _|_ s3 | s2, s1, v3)\n",
       "(v2 _|_ s3, s1 | s2, v1, v3)\n",
       "(v2 _|_ s1 | s3, v1, v3)\n",
       "(v2 _|_ s3 | s1, v1, v3)\n",
       "(v2 _|_ s1 | s2, s3, v1, v3)\n",
       "(v2 _|_ s3 | s2, s1, v1, v3)"
      ]
     },
     "execution_count": 24,
     "metadata": {},
     "output_type": "execute_result"
    }
   ],
   "source": [
    "valve.get_independencies()"
   ]
  },
  {
   "cell_type": "markdown",
   "metadata": {},
   "source": [
    "### Run queries"
   ]
  },
  {
   "cell_type": "markdown",
   "metadata": {},
   "source": [
    "1. Given no evidence, what is the probability that the valve state is broken at the third time step?\n",
    "\n",
    "Answer: 0.36"
   ]
  },
  {
   "cell_type": "code",
   "execution_count": 25,
   "metadata": {},
   "outputs": [
    {
     "name": "stdout",
     "output_type": "stream",
     "text": [
      "╒══════╤═══════════╕\n",
      "│ v3   │   phi(v3) │\n",
      "╞══════╪═══════════╡\n",
      "│ v3_0 │    0.3600 │\n",
      "├──────┼───────────┤\n",
      "│ v3_1 │    0.6400 │\n",
      "╘══════╧═══════════╛\n"
     ]
    }
   ],
   "source": [
    "infer = VariableElimination(valve)\n",
    "q1 = infer.query(variables=['v3'])\n",
    "print(q1['v3'])"
   ]
  },
  {
   "cell_type": "markdown",
   "metadata": {},
   "source": [
    "2. Given the evidence observed_broken for the sensor at the second time step, what is the probability that the valve state is broken at the third time step?\n",
    "\n",
    "Answer: 0.4667"
   ]
  },
  {
   "cell_type": "code",
   "execution_count": 26,
   "metadata": {},
   "outputs": [
    {
     "name": "stdout",
     "output_type": "stream",
     "text": [
      "╒══════╤═══════════╕\n",
      "│ v3   │   phi(v3) │\n",
      "╞══════╪═══════════╡\n",
      "│ v3_0 │    0.4667 │\n",
      "├──────┼───────────┤\n",
      "│ v3_1 │    0.5333 │\n",
      "╘══════╧═══════════╛\n"
     ]
    }
   ],
   "source": [
    "q2 = infer.query(variables=['v3'], evidence={'s2':0})\n",
    "print(q2['v3'])"
   ]
  },
  {
   "cell_type": "markdown",
   "metadata": {},
   "source": [
    "3. Given the sensor observation sequence (observed_broken, observed_normal, observed_broken) as evidence, what is the probability that the valve state is broken at the third time step?\n",
    "\n",
    "Answer: 0.333"
   ]
  },
  {
   "cell_type": "code",
   "execution_count": 27,
   "metadata": {},
   "outputs": [
    {
     "name": "stdout",
     "output_type": "stream",
     "text": [
      "╒══════╤═══════════╕\n",
      "│ v3   │   phi(v3) │\n",
      "╞══════╪═══════════╡\n",
      "│ v3_0 │    0.3333 │\n",
      "├──────┼───────────┤\n",
      "│ v3_1 │    0.6667 │\n",
      "╘══════╧═══════════╛\n"
     ]
    }
   ],
   "source": [
    "q3 = infer.query(variables=['v3'], evidence={'s1':0, 's2':1, 's3':0})\n",
    "print(q3['v3'])"
   ]
  },
  {
   "cell_type": "markdown",
   "metadata": {},
   "source": [
    "4. Given the sensor observation sequence (observed_broken, observed_broken, observed_broken) as evidence, what is the probability that the valve state is broken at the third time step?\n",
    "\n",
    "Answer: 0.6364"
   ]
  },
  {
   "cell_type": "code",
   "execution_count": 28,
   "metadata": {},
   "outputs": [
    {
     "name": "stdout",
     "output_type": "stream",
     "text": [
      "╒══════╤═══════════╕\n",
      "│ v3   │   phi(v3) │\n",
      "╞══════╪═══════════╡\n",
      "│ v3_0 │    0.6364 │\n",
      "├──────┼───────────┤\n",
      "│ v3_1 │    0.3636 │\n",
      "╘══════╧═══════════╛\n"
     ]
    }
   ],
   "source": [
    "q4 = infer.query(variables=['v3'], evidence={'s1':0, 's2':0, 's3':0})\n",
    "print(q4['v3'])"
   ]
  },
  {
   "cell_type": "markdown",
   "metadata": {},
   "source": [
    "5. Given the evidence that the valve state at the second time step is normal, what is the probability of observing sensor value observed_normal at the third time step?\n",
    "\n",
    "Answer: 0.4"
   ]
  },
  {
   "cell_type": "code",
   "execution_count": 29,
   "metadata": {},
   "outputs": [
    {
     "name": "stdout",
     "output_type": "stream",
     "text": [
      "╒══════╤═══════════╕\n",
      "│ s3   │   phi(s3) │\n",
      "╞══════╪═══════════╡\n",
      "│ s3_0 │    0.6000 │\n",
      "├──────┼───────────┤\n",
      "│ s3_1 │    0.4000 │\n",
      "╘══════╧═══════════╛\n"
     ]
    }
   ],
   "source": [
    "q5 = infer.query(variables=['s3'], evidence={'v2':1})\n",
    "print(q5['s3'])"
   ]
  }
 ],
 "metadata": {
  "kernelspec": {
   "display_name": "Python 3",
   "language": "python",
   "name": "python3"
  },
  "language_info": {
   "codemirror_mode": {
    "name": "ipython",
    "version": 3
   },
   "file_extension": ".py",
   "mimetype": "text/x-python",
   "name": "python",
   "nbconvert_exporter": "python",
   "pygments_lexer": "ipython3",
   "version": "3.5.5"
  }
 },
 "nbformat": 4,
 "nbformat_minor": 2
}
